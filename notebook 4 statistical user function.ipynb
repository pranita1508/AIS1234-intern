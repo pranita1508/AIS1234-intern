{
 "cells": [
  {
   "cell_type": "code",
   "execution_count": null,
   "id": "2e49976c-55db-481f-89a7-7809fd9320cd",
   "metadata": {},
   "outputs": [],
   "source": [
    "#statistical user define function"
   ]
  },
  {
   "cell_type": "code",
   "execution_count": 3,
   "id": "9789b5f7-c734-4ab0-940b-8009db882b78",
   "metadata": {},
   "outputs": [
    {
     "name": "stdout",
     "output_type": "stream",
     "text": [
      "The mean of given numbers is:  <function custum_mean at 0x00000194A9BB84A0>\n"
     ]
    }
   ],
   "source": [
    "def custum_mean(num):\n",
    "    if len (num) == 0:\n",
    "        return 0\n",
    "\n",
    "        \n",
    "    mean = sum(num) /len (num)\n",
    "    return mean\n",
    "num=[20,10,30,40]\n",
    "mean=custum_mean\n",
    "print(\"The mean of given numbers is: \",mean)"
   ]
  },
  {
   "cell_type": "code",
   "execution_count": 5,
   "id": "fa9c41f4-44ca-47a6-ab29-b4b9a2b8ca26",
   "metadata": {},
   "outputs": [
    {
     "name": "stdout",
     "output_type": "stream",
     "text": [
      "variance: 6.916667\n"
     ]
    }
   ],
   "source": [
    "def calculate_variance(data):\n",
    "    n = len(data)\n",
    "    mean = sum(data) / n\n",
    "    squared_deviations = [(x - mean) ** 2 for x in data]\n",
    "    variance = sum(squared_deviations) / n\n",
    "    return variance\n",
    "\n",
    "#Example usage:\n",
    "my_data = [6,2,4,5,1,9]\n",
    "result = calculate_variance(my_data)\n",
    "print(f\"variance: {result:.6f}\")"
   ]
  },
  {
   "cell_type": "code",
   "execution_count": 13,
   "id": "65a6eb4d-791d-4e26-82cf-1c2499d6de86",
   "metadata": {},
   "outputs": [
    {
     "name": "stdout",
     "output_type": "stream",
     "text": [
      "Median: 25.25\n"
     ]
    }
   ],
   "source": [
    "def calculate_median(data):\n",
    "    sorted_data = sorted(data)\n",
    "    n = len(sorted_data)\n",
    "    mid = n // 2\n",
    "    \n",
    "    if n % 2 == 1:\n",
    "         median = sorted_data[mid]\n",
    "    else:\n",
    "        median = (sorted_data[mid - 1] + sorted_data[mid]) / 2\n",
    "\n",
    "\n",
    "    return median\n",
    "\n",
    "#Example usage:\n",
    "my_data = [10.0,20.0,30.5,40.0]\n",
    "result = calculate_median(my_data)\n",
    "print(f\"Median: {result:.2f}\")\n",
    "\n"
   ]
  },
  {
   "cell_type": "code",
   "execution_count": 14,
   "id": "27a9b429-33c2-4d44-b145-1f7a8131b658",
   "metadata": {},
   "outputs": [
    {
     "name": "stdout",
     "output_type": "stream",
     "text": [
      "Maximum value: 30\n"
     ]
    }
   ],
   "source": [
    "def find_max(data):\n",
    "    #Initialize the maximum value\n",
    "    max_value = float('-inf') #Negative infinity as the initial as the initial value\n",
    "\n",
    "    #Iterate through the data\n",
    "    for value in data:\n",
    "        if value > max_value:\n",
    "            max_value = value\n",
    "\n",
    "    return max_value\n",
    "\n",
    "#Example usage:\n",
    "my_data = [10,5,20,15,30]\n",
    "result = find_max(my_data)\n",
    "print(f\"Maximum value: {result}\")\n",
    "\n",
    "\n"
   ]
  },
  {
   "cell_type": "code",
   "execution_count": 15,
   "id": "3b0e3ba5-2e5e-4184-af55-7a33f562b05a",
   "metadata": {},
   "outputs": [
    {
     "name": "stdout",
     "output_type": "stream",
     "text": [
      "Range: 35\n"
     ]
    }
   ],
   "source": [
    "def calculate_range(data):\n",
    "    data_min = min(data)\n",
    "    data_max = max(data)\n",
    "    data_range = data_max - data_min\n",
    "    return data_range\n",
    "\n",
    "#Example usage:\n",
    "my_data = [10,5,20,15,40]\n",
    "result = calculate_range(my_data)\n",
    "print(f\"Range: {result}\")"
   ]
  },
  {
   "cell_type": "code",
   "execution_count": 17,
   "id": "f566c8ed-2e4b-48ac-9b03-f1272d4b577e",
   "metadata": {},
   "outputs": [
    {
     "name": "stdout",
     "output_type": "stream",
     "text": [
      "Mode(s): [3, 5, 2]\n"
     ]
    }
   ],
   "source": [
    "def calculate_mode(data):\n",
    "    #create an empty dictionary to store value counts\n",
    "    value_counts = {}\n",
    "\n",
    "    #Iterate through the data\n",
    "    for value in data:\n",
    "        if value in value_counts:\n",
    "            value_counts[value] += 1\n",
    "        else:\n",
    "            value_counts[value] = 1\n",
    "\n",
    "    #Find the maximum count\n",
    "    max_count = max(value_counts.values())\n",
    "\n",
    "    #Get the mode(s)\n",
    "    mode_values = [key for key ,count in value_counts.items() if count == max_count]\n",
    "    return mode_values\n",
    "\n",
    "#Example usage:\n",
    "my_data = [3,5,2,7,1,9,8,6,5,2,3]\n",
    "result = calculate_mode(my_data)\n",
    "print(\"Mode(s):\",result)"
   ]
  },
  {
   "cell_type": "code",
   "execution_count": null,
   "id": "c8186312-3a4a-4c14-acb5-a64f9f31e258",
   "metadata": {},
   "outputs": [],
   "source": []
  }
 ],
 "metadata": {
  "kernelspec": {
   "display_name": "Python 3 (ipykernel)",
   "language": "python",
   "name": "python3"
  },
  "language_info": {
   "codemirror_mode": {
    "name": "ipython",
    "version": 3
   },
   "file_extension": ".py",
   "mimetype": "text/x-python",
   "name": "python",
   "nbconvert_exporter": "python",
   "pygments_lexer": "ipython3",
   "version": "3.11.7"
  }
 },
 "nbformat": 4,
 "nbformat_minor": 5
}
