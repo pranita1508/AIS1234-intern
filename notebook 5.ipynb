{
 "cells": [
  {
   "cell_type": "code",
   "execution_count": 1,
   "id": "c6a8e2fb-1257-4ab1-9ed9-d724d0d6e3eb",
   "metadata": {},
   "outputs": [
    {
     "name": "stdout",
     "output_type": "stream",
     "text": [
      "banana\n",
      "apple\n",
      "cherry\n"
     ]
    }
   ],
   "source": [
    "#set types\n",
    "#Access set items\n",
    "#loop through the set ,and print the values\n",
    "thisset = {\"apple\",\"banana\",\"cherry\"}\n",
    "for x in thisset:\n",
    "    print(x)"
   ]
  },
  {
   "cell_type": "code",
   "execution_count": 3,
   "id": "1a2e8a3b-da01-46f2-92b4-642819deedb0",
   "metadata": {},
   "outputs": [
    {
     "name": "stdout",
     "output_type": "stream",
     "text": [
      "True\n"
     ]
    }
   ],
   "source": [
    "#check if \"banana\" is present in the set\n",
    "thisset = {\"apple\",\"banana\",\"cherry\"}\n",
    "print(\"banana\" in thisset)\n"
   ]
  },
  {
   "cell_type": "code",
   "execution_count": 4,
   "id": "f2325c9d-932a-415a-b2eb-ce3e6ca07946",
   "metadata": {},
   "outputs": [
    {
     "name": "stdout",
     "output_type": "stream",
     "text": [
      "{'banana', 'apple', 'orange', 'cherry'}\n"
     ]
    }
   ],
   "source": [
    "#Add set items\n",
    "thisset = {\"apple\",\"banana\",\"cherry\"}\n",
    "thisset.add(\"orange\")\n",
    "print(thisset)"
   ]
  },
  {
   "cell_type": "code",
   "execution_count": 5,
   "id": "0e350d00-4c41-4716-9c4f-0b33bb2e54c8",
   "metadata": {},
   "outputs": [
    {
     "name": "stdout",
     "output_type": "stream",
     "text": [
      "{'banana', 'papaya', 'mango', 'pineapple', 'apple', 'cherry'}\n"
     ]
    }
   ],
   "source": [
    "#Add elements from tropical into thisset:\n",
    "thisset = {\"apple\",\"banana\",\"cherry\"}\n",
    "tropical = {\"pineapple\",\"mango\",\"papaya\"}\n",
    "thisset.update(tropical)\n",
    "print(thisset)"
   ]
  },
  {
   "cell_type": "code",
   "execution_count": 6,
   "id": "bd5361d3-42b4-4926-bbe0-8a8842715b09",
   "metadata": {},
   "outputs": [
    {
     "name": "stdout",
     "output_type": "stream",
     "text": [
      "{'apple', 'cherry'}\n"
     ]
    }
   ],
   "source": [
    "#remove \"banana\" by using the remove() method:\n",
    "thisset = {\"apple\",\"banana\",\"cherry\"}\n",
    "thisset.remove(\"banana\")\n",
    "print(thisset)"
   ]
  },
  {
   "cell_type": "code",
   "execution_count": 1,
   "id": "242b36e9-6ec3-40e0-91f3-a29d8a4a81a3",
   "metadata": {},
   "outputs": [
    {
     "ename": "SyntaxError",
     "evalue": "invalid syntax (1738005290.py, line 2)",
     "output_type": "error",
     "traceback": [
      "\u001b[1;36m  Cell \u001b[1;32mIn[1], line 2\u001b[1;36m\u001b[0m\n\u001b[1;33m    Set Methods\u001b[0m\n\u001b[1;37m        ^\u001b[0m\n\u001b[1;31mSyntaxError\u001b[0m\u001b[1;31m:\u001b[0m invalid syntax\n"
     ]
    }
   ],
   "source": [
    "#join set\n",
    "Set Methods\n",
    "Python has a set of built-in methods that you can use on sets.\n",
    "\n",
    "Method\tShortcut\tDescription\n",
    "add()\t \tAdds an element to the set\n",
    "clear()\t \tRemoves all the elements from the set\n",
    "copy()\t \tReturns a copy of the set\n",
    "difference()\t-\tReturns a set containing the difference between two or more sets\n",
    "difference_update()\t-=\tRemoves the items in this set that are also included in another, specified set\n",
    "discard()\t \tRemove the specified item\n",
    "intersection()\t&\tReturns a set, that is the intersection of two other sets\n",
    "intersection_update()\t&=\tRemoves the items in this set that are not present in other, specified set(s)\n",
    "isdisjoint()\t \tReturns whether two sets have a intersection or not\n",
    "issubset()\t<=\tReturns whether another set contains this set or not\n",
    " \t<\tReturns whether all items in this set is present in other, specified set(s)\n",
    "issuperset()\t>=\tReturns whether this set contains another set or not\n",
    " \t>\tReturns whether all items in other, specified set(s) is present in this set\n",
    "pop()\t \tRemoves an element from the set\n",
    "remove()\t \tRemoves the specified element\n",
    "symmetric_difference()\t^\tReturns a set with the symmetric differences of two sets\n",
    "symmetric_difference_update()\t^=\tInserts the symmetric differences from this set and another\n",
    "union()\t|\tReturn a set containing the union of sets\n",
    "update()\t|=\tUpdate the set with the union of this set and others\n",
    "\n"
   ]
  },
  {
   "cell_type": "code",
   "execution_count": 2,
   "id": "62b848f9-af40-488c-b7ab-7ea37c5d2c05",
   "metadata": {},
   "outputs": [
    {
     "name": "stdout",
     "output_type": "stream",
     "text": [
      "{'b', 'c', 1, 2, 'a', 3}\n"
     ]
    }
   ],
   "source": [
    "#union set\n",
    "set1 = {\"a\",\"b\",\"c\"}\n",
    "set2 = {1,2,3}\n",
    "set3 = set1.union(set2)\n",
    "print(set3)"
   ]
  },
  {
   "cell_type": "code",
   "execution_count": 3,
   "id": "d20db49a-9061-4f89-a7b5-223a1c36f08b",
   "metadata": {},
   "outputs": [
    {
     "name": "stdout",
     "output_type": "stream",
     "text": [
      "{'b', 'c', 1, 2, 'a', 3, 'John', 'apple', 'bananas', 'cherry', 'Elena'}\n"
     ]
    }
   ],
   "source": [
    "#join multiple sets with the union() method:\n",
    "set1 = {\"a\",\"b\",\"c\"}\n",
    "set2 = {1,2,3}\n",
    "set3 = {\"John\",\"Elena\"}\n",
    "set4 = {\"apple\",\"bananas\",\"cherry\"}\n",
    "myset = set1.union(set2,set3,set4)\n",
    "print(myset)\n"
   ]
  },
  {
   "cell_type": "code",
   "execution_count": 6,
   "id": "076248de-cc7b-4e1c-871b-cc81e5961750",
   "metadata": {},
   "outputs": [
    {
     "name": "stdout",
     "output_type": "stream",
     "text": [
      "{'b', 'c', 1, 2, 'a', 3, 'John', 'apple', 'bananas', 'cherry', 'Elena'}\n"
     ]
    }
   ],
   "source": [
    "#use | to join two sets:\n",
    "set1 = {\"a\",\"b\",\"c\"}\n",
    "set2 = {1,2,3}\n",
    "set3 = {\"John\",\"Elena\"}\n",
    "set4 = {\"apple\",\"bananas\",\"cherry\"}\n",
    "myset1 = set1|set2|set3|set4\n",
    "print(myset1)\n"
   ]
  },
  {
   "cell_type": "code",
   "execution_count": 7,
   "id": "7213e2e4-30cc-4777-aa9b-485392206e03",
   "metadata": {},
   "outputs": [
    {
     "name": "stdout",
     "output_type": "stream",
     "text": [
      "{'b', 'c', 1, 2, 'a', 3}\n"
     ]
    }
   ],
   "source": [
    "#update set:\n",
    "set1 = {\"a\",\"b\",\"c\"}\n",
    "set2 = {1,2,3}\n",
    "set1.update(set2)\n",
    "print(set1)"
   ]
  },
  {
   "cell_type": "code",
   "execution_count": 2,
   "id": "26660e64-f6f3-4b8c-a8e9-7cbc8fb50081",
   "metadata": {},
   "outputs": [
    {
     "name": "stdout",
     "output_type": "stream",
     "text": [
      "{'apple'}\n"
     ]
    }
   ],
   "source": [
    "#intersection\n",
    "set1 = {\"apple\",\"banana\",\"cherry\"}\n",
    "set2 = {\"google\",\"microsoft\",\"apple\"}\n",
    "set3 = set1.intersection(set2)\n",
    "print(set3)"
   ]
  },
  {
   "cell_type": "code",
   "execution_count": 3,
   "id": "9e3424bf-8eb9-436a-b293-6e68f274b6cc",
   "metadata": {},
   "outputs": [
    {
     "name": "stdout",
     "output_type": "stream",
     "text": [
      "{'apple'}\n"
     ]
    }
   ],
   "source": [
    "#use & to join sets\n",
    "set1 = {\"apple\",\"banana\",\"cherry\"}\n",
    "set2 = {\"google\",\"microsoft\",\"apple\"}\n",
    "set3 = set1 & set2\n",
    "print(set3)\n"
   ]
  },
  {
   "cell_type": "code",
   "execution_count": 4,
   "id": "e6f3cd88-f824-40b5-b025-2c054b41c844",
   "metadata": {},
   "outputs": [
    {
     "name": "stdout",
     "output_type": "stream",
     "text": [
      "{'apple'}\n"
     ]
    }
   ],
   "source": [
    "#intersection_update\n",
    "#keep the items that exist in both set1,and set2:\n",
    "set1 = {\"apple\",\"banana\",\"cherry\"}\n",
    "set2 = {\"google\",\"microsoft\",\"apple\"}\n",
    "set1.intersection_update(set2)\n",
    "print(set1)\n"
   ]
  },
  {
   "cell_type": "code",
   "execution_count": 5,
   "id": "5a2f428b-486c-4f85-840e-2ea73c567431",
   "metadata": {},
   "outputs": [
    {
     "name": "stdout",
     "output_type": "stream",
     "text": [
      "{'banana', 'cherry'}\n"
     ]
    }
   ],
   "source": [
    "#Difference\n",
    "set1 = {\"apple\",\"banana\",\"cherry\"}\n",
    "set2 = {\"google\",\"microsoft\",\"apple\"}\n",
    "set3 = set1.difference(set2)\n",
    "print(set3)"
   ]
  },
  {
   "cell_type": "code",
   "execution_count": 6,
   "id": "c9e8e28b-afa8-4468-9037-88f47c0fa7dd",
   "metadata": {},
   "outputs": [
    {
     "name": "stdout",
     "output_type": "stream",
     "text": [
      "{'banana', 'cherry'}\n"
     ]
    }
   ],
   "source": [
    "#Difference_update\n",
    "set1 = {\"apple\",\"banana\",\"cherry\"}\n",
    "set2 = {\"google\",\"microsoft\",\"apple\"}\n",
    "set1.difference_update(set2)\n",
    "print(set1)"
   ]
  },
  {
   "cell_type": "code",
   "execution_count": 7,
   "id": "ce51d092-9001-4e2d-bc61-a8d009720965",
   "metadata": {},
   "outputs": [
    {
     "name": "stdout",
     "output_type": "stream",
     "text": [
      "{'banana', 'google', 'cherry', 'microsoft'}\n"
     ]
    }
   ],
   "source": [
    "#Symmetric difference\n",
    "set1 = {\"apple\",\"banana\",\"cherry\"}\n",
    "set2 = {\"google\",\"microsoft\",\"apple\"}\n",
    "set3 = set1.symmetric_difference(set2)\n",
    "print(set3)"
   ]
  },
  {
   "cell_type": "code",
   "execution_count": 8,
   "id": "d343aa66-5bed-42bf-9408-0b692b1e6471",
   "metadata": {},
   "outputs": [
    {
     "name": "stdout",
     "output_type": "stream",
     "text": [
      "{'banana', 'google', 'cherry', 'microsoft'}\n"
     ]
    }
   ],
   "source": [
    "#Symmetric_difference_update\n",
    "set1 = {\"apple\",\"banana\",\"cherry\"}\n",
    "set2 = {\"google\",\"microsoft\",\"apple\"}\n",
    "set1.symmetric_difference_update(set2)\n",
    "print(set1)"
   ]
  },
  {
   "cell_type": "code",
   "execution_count": null,
   "id": "1b5b05d1-69b1-47d6-af2b-e97519e6d889",
   "metadata": {},
   "outputs": [],
   "source": []
  }
 ],
 "metadata": {
  "kernelspec": {
   "display_name": "Python 3 (ipykernel)",
   "language": "python",
   "name": "python3"
  },
  "language_info": {
   "codemirror_mode": {
    "name": "ipython",
    "version": 3
   },
   "file_extension": ".py",
   "mimetype": "text/x-python",
   "name": "python",
   "nbconvert_exporter": "python",
   "pygments_lexer": "ipython3",
   "version": "3.11.7"
  }
 },
 "nbformat": 4,
 "nbformat_minor": 5
}
