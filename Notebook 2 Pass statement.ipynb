{
 "cells": [
  {
   "cell_type": "code",
   "execution_count": null,
   "id": "02a09926-1f32-423d-bf02-e50de29777b8",
   "metadata": {},
   "outputs": [],
   "source": [
    "# Pass statement\n",
    "Pass statement is used when the users doesnt want any code execute so users can simply place pass where empty code is not allowed"
   ]
  },
  {
   "cell_type": "code",
   "execution_count": 1,
   "id": "dd39bdf2-4238-4fab-8274-c35971b4cb9a",
   "metadata": {},
   "outputs": [],
   "source": [
    "#1)\n",
    "a = 30\n",
    "b = 60\n",
    "if(a<b):\n",
    "    pass\n",
    "else:\n",
    "    print(\"b<a\")"
   ]
  },
  {
   "cell_type": "code",
   "execution_count": 2,
   "id": "0928cc32-e741-4f1a-a92c-e9eec2c53e2c",
   "metadata": {},
   "outputs": [
    {
     "name": "stdout",
     "output_type": "stream",
     "text": [
      "b\n",
      "c\n",
      "d\n"
     ]
    }
   ],
   "source": [
    "#2)\n",
    "li = ['a','b','c','d']\n",
    "for i in li:\n",
    "    if(i =='a'):\n",
    "        pass\n",
    "    else:\n",
    "        print(i)"
   ]
  },
  {
   "cell_type": "code",
   "execution_count": 3,
   "id": "f7c8900c-feb7-4a84-9241-aba2797e2eb9",
   "metadata": {},
   "outputs": [
    {
     "name": "stdout",
     "output_type": "stream",
     "text": [
      "x is less than or equal to 10\n"
     ]
    }
   ],
   "source": [
    "x = 5\n",
    "if x > 10:\n",
    "    pass\n",
    "else:\n",
    "    print(\"x is less than or equal to 10\")"
   ]
  },
  {
   "cell_type": "code",
   "execution_count": null,
   "id": "384c610e-67c0-46c2-8afc-2d3275b19c70",
   "metadata": {},
   "outputs": [],
   "source": []
  }
 ],
 "metadata": {
  "kernelspec": {
   "display_name": "Python 3 (ipykernel)",
   "language": "python",
   "name": "python3"
  },
  "language_info": {
   "codemirror_mode": {
    "name": "ipython",
    "version": 3
   },
   "file_extension": ".py",
   "mimetype": "text/x-python",
   "name": "python",
   "nbconvert_exporter": "python",
   "pygments_lexer": "ipython3",
   "version": "3.11.7"
  }
 },
 "nbformat": 4,
 "nbformat_minor": 5
}
