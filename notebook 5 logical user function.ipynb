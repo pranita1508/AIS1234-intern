{
 "cells": [
  {
   "cell_type": "code",
   "execution_count": null,
   "id": "0057813d-11f8-4f0f-adc6-90af7f6fd9dd",
   "metadata": {},
   "outputs": [],
   "source": [
    "#logical operators\n"
   ]
  },
  {
   "cell_type": "code",
   "execution_count": null,
   "id": "cf999164-59fa-47b0-9b9c-0cc8e7bcca1e",
   "metadata": {},
   "outputs": [],
   "source": [
    "#And\n",
    "checks two or more  condition if True"
   ]
  },
  {
   "cell_type": "code",
   "execution_count": 10,
   "id": "6c5db780-245c-444f-b9ea-219143c5e440",
   "metadata": {},
   "outputs": [
    {
     "name": "stdout",
     "output_type": "stream",
     "text": [
      "The temprature is bad\n"
     ]
    }
   ],
   "source": [
    "temp = 40\n",
    "\n",
    "if temp > 0 and temp < 30:\n",
    "    print(\"The temperture is good\")\n",
    "else:\n",
    "    print(\"The temprature is bad\")"
   ]
  },
  {
   "cell_type": "code",
   "execution_count": 1,
   "id": "07baa6d2-48ba-41f8-bc89-de81306d91a2",
   "metadata": {},
   "outputs": [
    {
     "name": "stdout",
     "output_type": "stream",
     "text": [
      "The numbers are greater than 0\n",
      "The numbers are greater than 0\n"
     ]
    }
   ],
   "source": [
    "a = 10\n",
    "b = 10\n",
    "c = 10\n",
    "if a>0 and b>0:\n",
    "    print(\"The numbers are greater than 0\")\n",
    "    if a>0 and b>0 and c>0:\n",
    "        print(\"The numbers are greater than 0\")\n",
    "    else:\n",
    "        print(\"Atleast one number is not greater than 0\")"
   ]
  },
  {
   "cell_type": "code",
   "execution_count": null,
   "id": "8e56edf2-41c0-4192-bb4f-3ce70ece96df",
   "metadata": {},
   "outputs": [],
   "source": [
    "#OR\n",
    "checks if at least one condition is True"
   ]
  },
  {
   "cell_type": "code",
   "execution_count": 2,
   "id": "e00a8d32-9503-494f-b7c5-532f27af0024",
   "metadata": {},
   "outputs": [
    {
     "name": "stdout",
     "output_type": "stream",
     "text": [
      "Either of the number is greater than 0\n"
     ]
    }
   ],
   "source": [
    "a=10\n",
    "b=10\n",
    "c=0\n",
    "if a>0 or b>0:\n",
    "    print(\"Either of the number is greater than 0\")\n",
    "else:\n",
    "    print(\"No number is greaer than 0\")\n",
    "    if b>0 or c>0:\n",
    "        print(\"Either of the number is greater than 0\")\n",
    "    else:\n",
    "        print(\"No number is greater than 0\")\n",
    "        \n",
    "        "
   ]
  },
  {
   "cell_type": "code",
   "execution_count": 11,
   "id": "cb00fb7d-166a-4eb3-9b89-e674891bda7a",
   "metadata": {},
   "outputs": [
    {
     "name": "stdout",
     "output_type": "stream",
     "text": [
      "The temperature is bad\n"
     ]
    }
   ],
   "source": [
    "temp = 40\n",
    "\n",
    "if temp <= 0 or temp >= 30:\n",
    "    print(\"The temperature is bad\")\n",
    "else:\n",
    "    print(\"The temperature is good\")"
   ]
  },
  {
   "cell_type": "code",
   "execution_count": null,
   "id": "f87befd3-912d-4e62-b49d-600a36fb3ba5",
   "metadata": {},
   "outputs": [],
   "source": [
    "#Not\n",
    "True if condition is false ,and vice versa"
   ]
  },
  {
   "cell_type": "code",
   "execution_count": 12,
   "id": "7f3ad16e-6b91-40d0-b4fd-9180e61c1169",
   "metadata": {},
   "outputs": [
    {
     "name": "stdout",
     "output_type": "stream",
     "text": [
      "The temperture is good\n",
      "it is sunny outside\n"
     ]
    }
   ],
   "source": [
    "temp = 20\n",
    "sunny = False\n",
    "\n",
    "if temp <= 0 or temp >= 30:\n",
    "    print(\"The temperture is bad\")\n",
    "else:\n",
    "    print(\"The temperture is good\")\n",
    "\n",
    "if not sunny:\n",
    "    print(\"it is sunny outside\")\n",
    "else:\n",
    "    print(\"it is cloudly outside\")"
   ]
  },
  {
   "cell_type": "raw",
   "id": "30aff92d-09f4-4a0c-913d-e9afa8318cc6",
   "metadata": {},
   "source": [
    "True and not True or false"
   ]
  },
  {
   "cell_type": "code",
   "execution_count": 5,
   "id": "f7e71f9f-2229-479c-ae29-fd0a4f3c4172",
   "metadata": {},
   "outputs": [],
   "source": [
    "#Odd,Even"
   ]
  },
  {
   "cell_type": "code",
   "execution_count": 9,
   "id": "5bf5d553-fc7b-41ca-9524-eee69a915877",
   "metadata": {},
   "outputs": [
    {
     "name": "stdout",
     "output_type": "stream",
     "text": [
      "Even Numbers is List: 1\n",
      "odd Numbers in List: 1\n",
      "Even Numbers is List: 2\n",
      "odd Numbers in List: 2\n",
      "Even Numbers is List: 3\n",
      "odd Numbers in List: 3\n",
      "Even Numbers is List: 3\n",
      "odd Numbers in List: 4\n"
     ]
    }
   ],
   "source": [
    "list1=[10,21,4,45,66,93,1]\n",
    "even_count,odd_count=0,0\n",
    "for num in list1:\n",
    "    if num%2==0:\n",
    "        even_count+=1\n",
    "    else:\n",
    "        odd_count+=1\n",
    "        print(\"Even Numbers is List:\",even_count)\n",
    "        print(\"odd Numbers in List:\",odd_count)"
   ]
  },
  {
   "cell_type": "code",
   "execution_count": null,
   "id": "bc1ec848-6442-48da-a2f6-f17c72757833",
   "metadata": {},
   "outputs": [],
   "source": []
  }
 ],
 "metadata": {
  "kernelspec": {
   "display_name": "Python 3 (ipykernel)",
   "language": "python",
   "name": "python3"
  },
  "language_info": {
   "codemirror_mode": {
    "name": "ipython",
    "version": 3
   },
   "file_extension": ".py",
   "mimetype": "text/x-python",
   "name": "python",
   "nbconvert_exporter": "python",
   "pygments_lexer": "ipython3",
   "version": "3.11.7"
  }
 },
 "nbformat": 4,
 "nbformat_minor": 5
}
