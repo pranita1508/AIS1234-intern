{
 "cells": [
  {
   "cell_type": "code",
   "execution_count": null,
   "id": "280b9167-924b-4178-99ce-3f8a4ff8520a",
   "metadata": {},
   "outputs": [],
   "source": [
    "Python Numbers : There are three numeric types in python\n",
    "1.int\n",
    "2.float\n",
    "3.complex"
   ]
  },
  {
   "cell_type": "code",
   "execution_count": 3,
   "id": "4a1e7a95-500f-4018-9032-e23353930939",
   "metadata": {},
   "outputs": [],
   "source": [
    "#type = to verify the type of any object"
   ]
  },
  {
   "cell_type": "code",
   "execution_count": 4,
   "id": "bc88f396-229b-45fa-b001-93d6149e6c16",
   "metadata": {},
   "outputs": [],
   "source": [
    "x=547458 #int y=96.8 #float z=4+1j#complex print(type(x))print(type(y))print(type(z))"
   ]
  },
  {
   "cell_type": "code",
   "execution_count": 5,
   "id": "25e4e976-d0c8-46c7-b805-d1c479b1135c",
   "metadata": {},
   "outputs": [],
   "source": [
    "#integer = int or integer is a whole number(not a fractional number) that can be positive , negative \n"
   ]
  },
  {
   "cell_type": "code",
   "execution_count": 6,
   "id": "82366c25-efc1-40f5-8c49-b29a0e84be0d",
   "metadata": {},
   "outputs": [
    {
     "name": "stdout",
     "output_type": "stream",
     "text": [
      "<class 'int'>\n",
      "<class 'int'>\n"
     ]
    }
   ],
   "source": [
    "#int\n",
    "r=2222214562\n",
    "a=3652\n",
    "print(type(r))\n",
    "print(type(a))"
   ]
  },
  {
   "cell_type": "code",
   "execution_count": 7,
   "id": "0f63980c-fcfd-45c3-b2e3-9a9c922e1317",
   "metadata": {},
   "outputs": [],
   "source": [
    "#float = float or floating point number is a positive or negative whole number with a decimal point"
   ]
  },
  {
   "cell_type": "code",
   "execution_count": 8,
   "id": "9752eb2f-f1b5-466f-a9cb-7338517954d6",
   "metadata": {},
   "outputs": [
    {
     "name": "stdout",
     "output_type": "stream",
     "text": [
      "<class 'float'>\n",
      "<class 'float'>\n"
     ]
    }
   ],
   "source": [
    "#float\n",
    "g=569.3569\n",
    "j=0.000589\n",
    "print(type(g))\n",
    "print(type(j))"
   ]
  },
  {
   "cell_type": "code",
   "execution_count": 9,
   "id": "33315dd9-9e04-415e-8c60-f0e9ed400a26",
   "metadata": {},
   "outputs": [],
   "source": [
    "# complex = complex numbers are written with a \"j\" as the imaginary part"
   ]
  },
  {
   "cell_type": "code",
   "execution_count": 10,
   "id": "77284157-6342-48d8-a515-c6e2938d81f3",
   "metadata": {},
   "outputs": [
    {
     "name": "stdout",
     "output_type": "stream",
     "text": [
      "<class 'complex'>\n",
      "<class 'complex'>\n"
     ]
    }
   ],
   "source": [
    "#complex\n",
    "v=2+67j\n",
    "n=1j\n",
    "print(type(v))\n",
    "print(type(n))"
   ]
  },
  {
   "cell_type": "code",
   "execution_count": 11,
   "id": "4091ec93-7950-4063-b15a-e0a901f5b6dc",
   "metadata": {},
   "outputs": [],
   "source": [
    "#type conversion : \n",
    "#you can convert from one type to another with the int(),float(),and complex() methods"
   ]
  },
  {
   "cell_type": "code",
   "execution_count": 13,
   "id": "5ad4f632-b3c2-4606-9f22-268837270e12",
   "metadata": {},
   "outputs": [
    {
     "name": "stdout",
     "output_type": "stream",
     "text": [
      "35698.0\n",
      "6\n",
      "(35698+0j)\n",
      "<class 'float'>\n",
      "<class 'int'>\n",
      "<class 'complex'>\n"
     ]
    }
   ],
   "source": [
    "x= 6.66666  #float\n",
    "y=35698     #int\n",
    "z=2569+1j   #complex\n",
    "\n",
    "#convert from in a float:\n",
    "a = float(y)\n",
    "\n",
    "#convert from float a int:\n",
    "b = int(x)\n",
    "\n",
    "#convert from int a complex:\n",
    "c = complex(y)\n",
    "\n",
    "print(a)\n",
    "print(b)\n",
    "print(c)\n",
    "\n",
    "print(type(a))\n",
    "print(type(b))\n",
    "print(type(c))\n"
   ]
  },
  {
   "cell_type": "code",
   "execution_count": null,
   "id": "774f12d7-a6ab-440a-85d5-48c3c70f326b",
   "metadata": {},
   "outputs": [],
   "source": []
  }
 ],
 "metadata": {
  "kernelspec": {
   "display_name": "Python 3 (ipykernel)",
   "language": "python",
   "name": "python3"
  },
  "language_info": {
   "codemirror_mode": {
    "name": "ipython",
    "version": 3
   },
   "file_extension": ".py",
   "mimetype": "text/x-python",
   "name": "python",
   "nbconvert_exporter": "python",
   "pygments_lexer": "ipython3",
   "version": "3.11.7"
  }
 },
 "nbformat": 4,
 "nbformat_minor": 5
}
