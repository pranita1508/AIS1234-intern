{
 "cells": [
  {
   "cell_type": "code",
   "execution_count": 2,
   "id": "632be877-3343-4f9b-95f7-5e70aade4abf",
   "metadata": {},
   "outputs": [
    {
     "name": "stdout",
     "output_type": "stream",
     "text": [
      "Hello\n"
     ]
    }
   ],
   "source": [
    "#Types of Python strings\n",
    "#slicing strings\n",
    "#Get the characters from the start to position 5\n",
    "b = \"Hello,world!\"\n",
    "print(b[:5])"
   ]
  },
  {
   "cell_type": "code",
   "execution_count": 5,
   "id": "2a4c19b4-be98-467b-8230-c34eebf4e8d4",
   "metadata": {},
   "outputs": [
    {
     "name": "stdout",
     "output_type": "stream",
     "text": [
      "HELLO,WORLD!\n"
     ]
    }
   ],
   "source": [
    "#upper case\n",
    "#The upper() method returns the strings in upper case\n",
    "a = \"Hello,world!\"\n",
    "print(a.upper())"
   ]
  },
  {
   "cell_type": "code",
   "execution_count": 7,
   "id": "529c86e1-37fa-4e55-bbbd-f9e046445a9a",
   "metadata": {},
   "outputs": [
    {
     "name": "stdout",
     "output_type": "stream",
     "text": [
      "hello,world!\n"
     ]
    }
   ],
   "source": [
    "#lower case\n",
    "#The lower() method returns the strings in lower case\n",
    "a = \"Hello,world!\"\n",
    "print(a.lower())"
   ]
  },
  {
   "cell_type": "code",
   "execution_count": 8,
   "id": "64f4a892-4ebb-466d-9661-26ad68dc9f26",
   "metadata": {},
   "outputs": [
    {
     "name": "stdout",
     "output_type": "stream",
     "text": [
      "Hello,world!\n"
     ]
    }
   ],
   "source": [
    "#The strip() method removes any whitespace from the beginning or the end:\n",
    "a = \"Hello,world!\"\n",
    "print(a.strip()) #returns \"Hello,world!\""
   ]
  },
  {
   "cell_type": "code",
   "execution_count": null,
   "id": "595e17b5-94c5-4ad7-9c80-ecc894d73dbb",
   "metadata": {},
   "outputs": [],
   "source": []
  }
 ],
 "metadata": {
  "kernelspec": {
   "display_name": "Python 3 (ipykernel)",
   "language": "python",
   "name": "python3"
  },
  "language_info": {
   "codemirror_mode": {
    "name": "ipython",
    "version": 3
   },
   "file_extension": ".py",
   "mimetype": "text/x-python",
   "name": "python",
   "nbconvert_exporter": "python",
   "pygments_lexer": "ipython3",
   "version": "3.11.7"
  }
 },
 "nbformat": 4,
 "nbformat_minor": 5
}
