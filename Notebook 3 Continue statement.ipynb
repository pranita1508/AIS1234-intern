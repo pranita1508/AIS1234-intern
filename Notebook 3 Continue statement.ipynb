{
 "cells": [
  {
   "cell_type": "code",
   "execution_count": null,
   "id": "03d69d5c-b062-4ca4-9318-7676983cfb2e",
   "metadata": {},
   "outputs": [],
   "source": [
    "# continue statement\n",
    "#continue statement is a loop control statement that forces to execute the next iteration of the loop while loop inside the loop for the current iteration "
   ]
  },
  {
   "cell_type": "code",
   "execution_count": 4,
   "id": "51b70015-a5a1-4d85-9ec5-d3a93ba0d9ff",
   "metadata": {},
   "outputs": [
    {
     "name": "stdout",
     "output_type": "stream",
     "text": [
      "1234578910"
     ]
    }
   ],
   "source": [
    "for i in range (1,11):\n",
    "    if i == 6:\n",
    "        continue\n",
    "    else:\n",
    "        print(i,end=\"\")"
   ]
  },
  {
   "cell_type": "code",
   "execution_count": null,
   "id": "431b67b7-21be-4add-9050-0423d7f49be2",
   "metadata": {},
   "outputs": [],
   "source": [
    "i = 0\n",
    "while i < 10:\n",
    "    if i == 5:\n",
    "        i += 1\n",
    "        continue\n",
    "        print(i)\n",
    "        i += 1"
   ]
  },
  {
   "cell_type": "code",
   "execution_count": null,
   "id": "f3492692-753e-4bde-90c7-164bfb3d3a19",
   "metadata": {},
   "outputs": [],
   "source": [
    "for var in \"Geeksforgeeks\":\n",
    "    if var == \"e\":\n",
    "        continue\n",
    "        print(var)"
   ]
  },
  {
   "cell_type": "code",
   "execution_count": null,
   "id": "49690b8d-aab0-4153-a781-901717bffca9",
   "metadata": {},
   "outputs": [],
   "source": [
    "while True:\n",
    "    ...\n",
    "    if x == 10:\n",
    "        continue\n",
    "        print(x)"
   ]
  },
  {
   "cell_type": "code",
   "execution_count": null,
   "id": "0f0ad1dc-4f9f-4cab-ac9a-522e9f6cf472",
   "metadata": {},
   "outputs": [],
   "source": []
  }
 ],
 "metadata": {
  "kernelspec": {
   "display_name": "Python 3 (ipykernel)",
   "language": "python",
   "name": "python3"
  },
  "language_info": {
   "codemirror_mode": {
    "name": "ipython",
    "version": 3
   },
   "file_extension": ".py",
   "mimetype": "text/x-python",
   "name": "python",
   "nbconvert_exporter": "python",
   "pygments_lexer": "ipython3",
   "version": "3.11.7"
  }
 },
 "nbformat": 4,
 "nbformat_minor": 5
}
