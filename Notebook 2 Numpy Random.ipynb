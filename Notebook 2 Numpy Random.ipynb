{
 "cells": [
  {
   "cell_type": "code",
   "execution_count": null,
   "id": "b1f7d8b8-b346-478c-bffd-6cce44ee36fa",
   "metadata": {},
   "outputs": [],
   "source": [
    "#Random Number in Numpy:\n",
    "Random number does not mean a different not mean a different number every time ."
   ]
  },
  {
   "cell_type": "code",
   "execution_count": 2,
   "id": "54fd43a2-6e09-4812-bda4-078d672291aa",
   "metadata": {},
   "outputs": [
    {
     "name": "stdout",
     "output_type": "stream",
     "text": [
      "36\n"
     ]
    }
   ],
   "source": [
    "#Ex \n",
    "#generate a random integer from 0 to 100\n",
    "from numpy import random\n",
    "\n",
    "x = random.randint(50)\n",
    "\n",
    "print(x)"
   ]
  },
  {
   "cell_type": "code",
   "execution_count": null,
   "id": "9034a28b-a573-475b-b079-9367e3827ea5",
   "metadata": {},
   "outputs": [],
   "source": [
    "#Data distribution\n",
    "data distribution is a list of all possible values ,and how often each value occurs."
   ]
  },
  {
   "cell_type": "code",
   "execution_count": 3,
   "id": "d045cf54-4acc-4956-8b62-7889849990b7",
   "metadata": {},
   "outputs": [
    {
     "name": "stdout",
     "output_type": "stream",
     "text": [
      "[7 7 5 7 7 7 7 5 7 7 5 5 3 3 7 3 5 3 7 7 3 7 7 5 3 5 7 5 5 7 7 7 5 7 7 7 7\n",
      " 3 5 7 7 7 5 7 7 5 7 7 5 7 5 7 7 7 7 7 7 7 5 5 3 7 7 7 7 7 7 7 7 5 7 7 7 7\n",
      " 7 7 7 7 5 7 7 3 5 5 5 3 5 7 7 7 7 5 7 3 5 7 3 7 7 7]\n"
     ]
    }
   ],
   "source": [
    "#Ex.\n",
    "#The Probablity for the value to be 3 is set to be  0.1\n",
    "#The Probablity for the value to be 5 is set to be  0.3\n",
    "#The Probablity for the value to be 7 is set to be  0.6\n",
    "#The Probablity for the value to be 9 is set to be  0\n",
    "from numpy import random\n",
    "\n",
    "x = random.choice([3,5,7,9],p=[0.1,0.3,0.6,0.0],size=(100))\n",
    "\n",
    "print(x)"
   ]
  },
  {
   "cell_type": "code",
   "execution_count": 4,
   "id": "638c3607-eca7-48e5-bc15-a54b3ca01cea",
   "metadata": {},
   "outputs": [
    {
     "name": "stdout",
     "output_type": "stream",
     "text": [
      "[2 1 5 3 4]\n"
     ]
    }
   ],
   "source": [
    "#Random Permutation of elements\n",
    "#Randomly shuffle elements of following array:\n",
    "from numpy import random\n",
    "import numpy as np\n",
    "\n",
    "arr = np.array([1,2,3,4,5])\n",
    "\n",
    "random.shuffle(arr)\n",
    "\n",
    "print(arr)"
   ]
  },
  {
   "cell_type": "code",
   "execution_count": null,
   "id": "3bc95448-071a-4b3b-bbc8-d13b98963727",
   "metadata": {},
   "outputs": [],
   "source": [
    "#Normal Distribution\n",
    "The normal distribution is one of the most important distribution\n",
    "It has three parameters:\n",
    "loc - (mean) where the peak of the bell exists\n",
    "scale - (standard deviation) how flat the graph distribution should be\n",
    "size - The shape of the returned array"
   ]
  },
  {
   "cell_type": "code",
   "execution_count": 6,
   "id": "668ba110-df1e-4264-89b0-deeabed61fd6",
   "metadata": {},
   "outputs": [
    {
     "name": "stdout",
     "output_type": "stream",
     "text": [
      "[[-0.76903837 -0.37971255 -1.74506328]\n",
      " [-0.73134053  0.0560247  -0.73015162]]\n"
     ]
    }
   ],
   "source": [
    "#EX\n",
    "# Generate a random normal distribution of size 2*3:\n",
    "from numpy import random\n",
    "\n",
    "x = random.normal(size=(2,3))\n",
    "\n",
    "print(x)"
   ]
  },
  {
   "cell_type": "code",
   "execution_count": 8,
   "id": "a8131c2a-5458-4cdb-9722-56a5dc83ae1f",
   "metadata": {},
   "outputs": [
    {
     "name": "stdout",
     "output_type": "stream",
     "text": [
      "[[-0.19301499  1.07857838 -0.0568392 ]\n",
      " [-0.26622708  2.54645636  1.76409831]]\n"
     ]
    }
   ],
   "source": [
    "#Generate a random normal distribution of size 2*3with mean at 1 and standard deviation of 2:\n",
    "from numpy import random\n",
    "\n",
    "x = random.normal(loc=1, scale=2,size=(2,3))\n",
    "\n",
    "print(x)"
   ]
  },
  {
   "cell_type": "code",
   "execution_count": null,
   "id": "75f3c76e-fbaf-4ee7-87a5-3afe4d639dea",
   "metadata": {},
   "outputs": [],
   "source": [
    "#Binomial Distribution\n",
    "Binomial Distribution is a Discreate Distribution\n",
    "It has three parameters:\n",
    "n - number of trials\n",
    "p - probability of occurance of each trial (eg.for toss of a coin 0.5 each)\n",
    "size - The shape of the returned array\n"
   ]
  },
  {
   "cell_type": "code",
   "execution_count": 9,
   "id": "9af53516-863f-41b3-a18c-0bc8d7f0af07",
   "metadata": {},
   "outputs": [
    {
     "name": "stdout",
     "output_type": "stream",
     "text": [
      "[6 4 4 5 4 7 3 5 4 5]\n"
     ]
    }
   ],
   "source": [
    "#Ex\n",
    "#Given 10 trials for coin toss generate 10 data points:\n",
    "from numpy import random\n",
    "\n",
    "x = random.binomial(n=10,p=0.5, size=10)\n",
    "\n",
    "print(x)\n",
    "               "
   ]
  },
  {
   "cell_type": "code",
   "execution_count": null,
   "id": "151eac06-4571-45cb-a683-6630826672ea",
   "metadata": {},
   "outputs": [],
   "source": [
    "#Poisson Distribution\n",
    "Binomial Distribution is a Discreate Distribution\n",
    "It has three parameters:\n",
    "lam - rate or known number of occurrences e.g 2 for above problem.\n",
    "size - The shape of the returned array                                               "
   ]
  },
  {
   "cell_type": "code",
   "execution_count": 10,
   "id": "c17d00c0-1162-4bd7-8c93-4f0b700a0a67",
   "metadata": {},
   "outputs": [
    {
     "name": "stdout",
     "output_type": "stream",
     "text": [
      "[8 2 2 1 1 2 4 1 1 3]\n"
     ]
    }
   ],
   "source": [
    "#Ex\n",
    "#Generate a random 1*10 distribution for occurrence 2:\n",
    "from numpy import random\n",
    "\n",
    "x = random.poisson(lam=2,size=10)\n",
    "\n",
    "print(x)"
   ]
  },
  {
   "cell_type": "code",
   "execution_count": null,
   "id": "ce347985-5391-429f-8051-d53272e32886",
   "metadata": {},
   "outputs": [],
   "source": [
    "#Unifom Distribution\n",
    "Used to describe probability where every event has equal chances of occuring\n",
    "a - lower bound - default 0.0\n",
    "b - upper bound - default 1.0\n",
    "size -The shape of the returned array"
   ]
  },
  {
   "cell_type": "code",
   "execution_count": 12,
   "id": "6902a3ae-fdeb-438c-a4f2-b7aab060d264",
   "metadata": {},
   "outputs": [
    {
     "name": "stdout",
     "output_type": "stream",
     "text": [
      "[[0.13141751 0.78273831 0.20874252]\n",
      " [0.25314612 0.61428317 0.9961417 ]]\n"
     ]
    }
   ],
   "source": [
    "#Ex\n",
    "#create a 2*3 uniform distribution sample:\n",
    "from numpy import random\n",
    "\n",
    "x = random.uniform(size=(2,3))\n",
    "\n",
    "print(x)"
   ]
  },
  {
   "cell_type": "code",
   "execution_count": null,
   "id": "56da5da1-485e-4dab-8964-0d4407e27cbb",
   "metadata": {},
   "outputs": [],
   "source": [
    "#Logistic Distribution\n",
    "logistic distribution is used to describe growth\n",
    "It has three parameters:\n",
    "loc - mean,where the peak is. default 0.\n",
    "scale - standard deviation ,the flatness of the distribution .default 1.\n",
    "size - The shape of the returned array"
   ]
  },
  {
   "cell_type": "code",
   "execution_count": 13,
   "id": "332924aa-0101-46fa-a4b2-a703cd357c16",
   "metadata": {},
   "outputs": [
    {
     "name": "stdout",
     "output_type": "stream",
     "text": [
      "[[10.49462476  0.9608618   2.51597422]\n",
      " [ 2.35256276  6.22615256 -3.48277213]]\n"
     ]
    }
   ],
   "source": [
    "#Ex.\n",
    "#Draw 2*3 samples from a logistic distribution with mean at 1 and stddev 2.0:\n",
    "from numpy import random\n",
    "\n",
    "x = random.logistic(loc=1,scale=2,size=(2,3))\n",
    "\n",
    "print(x)"
   ]
  },
  {
   "cell_type": "code",
   "execution_count": 16,
   "id": "91ae0176-276f-46a1-98b4-e3302475b3c7",
   "metadata": {},
   "outputs": [
    {
     "name": "stderr",
     "output_type": "stream",
     "text": [
      "Matplotlib is building the font cache; this may take a moment.\n",
      "C:\\Users\\Dell\\AppData\\Local\\Temp\\ipykernel_9480\\4271570814.py:6: UserWarning: \n",
      "\n",
      "`distplot` is a deprecated function and will be removed in seaborn v0.14.0.\n",
      "\n",
      "Please adapt your code to use either `displot` (a figure-level function with\n",
      "similar flexibility) or `kdeplot` (an axes-level function for kernel density plots).\n",
      "\n",
      "For a guide to updating your code to use the new functions, please see\n",
      "https://gist.github.com/mwaskom/de44147ed2974457ad6372750bbe5751\n",
      "\n",
      "  sns.distplot(random.uniform(size=1000), hist=False)\n",
      "C:\\Users\\Dell\\.ipython\\Lib\\site-packages\\seaborn\\_oldcore.py:1119: FutureWarning: use_inf_as_na option is deprecated and will be removed in a future version. Convert inf values to NaN before operating instead.\n",
      "  with pd.option_context('mode.use_inf_as_na', True):\n"
     ]
    },
    {
     "data": {
      "image/png": "[encoded data removed]",
      "text/plain": [
       "<Figure size 640x480 with 1 Axes>"
      ]
     },
     "metadata": {},
     "output_type": "display_data"
    }
   ],
   "source": [
    "#Visualization of logistic Distribution\n",
    "from numpy import random\n",
    "import matplotlib.pyplot as plt\n",
    "import seaborn as sns\n",
    "\n",
    "sns.distplot(random.uniform(size=1000), hist=False)\n",
    "\n",
    "plt.show()"
   ]
  },
  {
   "cell_type": "code",
   "execution_count": null,
   "id": "8f88f45d-a928-4887-a7aa-e5c016c82934",
   "metadata": {},
   "outputs": [],
   "source": [
    "#Multinomial distribution\n",
    "multinomial distribution\n",
    "muktinomial distribution is a generalization of biomial distribution\n",
    "It has three parameters:\n",
    "n - number of possible outcomes (eg.6 for dice roll).\n",
    "pvals - list of probabilities of outcoms (eg.[1/6,1/6,1/6,1/6,1/6,1/6]for dice roll).\n",
    "size - The shape of the returned array                                          "
   ]
  },
  {
   "cell_type": "code",
   "execution_count": 17,
   "id": "a7535e7a-aae1-4cee-a49f-0a6f04d1e9d7",
   "metadata": {},
   "outputs": [
    {
     "name": "stdout",
     "output_type": "stream",
     "text": [
      "[0 2 1 0 2 1]\n"
     ]
    }
   ],
   "source": [
    "from numpy import random\n",
    "\n",
    "x = random.multinomial(n=6,pvals=[1/6,1/6,1/6,1/6,1/6,1/6])\n",
    "\n",
    "print(x)"
   ]
  },
  {
   "cell_type": "code",
   "execution_count": null,
   "id": "fe8cbb3b-405b-4380-a0eb-3005b15d5b0d",
   "metadata": {},
   "outputs": [],
   "source": [
    "#Exponential Distribution\n",
    "Exponential distribution is used for describing time till next event \n",
    "It has two parameters :\n",
    "scale - inverse of rate (see lam in poisson distribution )defaults to 1.0.\n",
    "size - The shape of the returned array                                                                          "
   ]
  },
  {
   "cell_type": "code",
   "execution_count": 18,
   "id": "ee7d5492-8958-42aa-a260-b81c2a341624",
   "metadata": {},
   "outputs": [
    {
     "name": "stdout",
     "output_type": "stream",
     "text": [
      "[[1.68806548 0.93749907 2.29941036]\n",
      " [0.61162778 8.71627856 0.81846577]]\n"
     ]
    }
   ],
   "source": [
    "from numpy import random\n",
    "\n",
    "x = random.exponential(scale=2,size=(2,3))\n",
    "\n",
    "print(x)"
   ]
  },
  {
   "cell_type": "code",
   "execution_count": null,
   "id": "3d62923f-ddbf-40e7-a52c-d41c30243dc6",
   "metadata": {},
   "outputs": [],
   "source": [
    "#chi square distribution\n",
    "chi square distribution is used as a basis to verify the hypothesis:\n",
    "df - (degree of freedom)\n",
    "size - The shape of the returned array                                          "
   ]
  },
  {
   "cell_type": "code",
   "execution_count": 19,
   "id": "d03cb826-5faa-4ae5-9abd-e74b6b490ea4",
   "metadata": {},
   "outputs": [
    {
     "name": "stdout",
     "output_type": "stream",
     "text": [
      "[[0.18375382 0.04599706 0.03541324]\n",
      " [1.25601505 5.23744745 0.65289094]]\n"
     ]
    }
   ],
   "source": [
    "from numpy import random\n",
    "\n",
    "x = random.chisquare(df=2,size=(2,3))\n",
    "\n",
    "print(x)"
   ]
  },
  {
   "cell_type": "code",
   "execution_count": null,
   "id": "281e8714-534e-4160-90c9-8ae70f99444a",
   "metadata": {},
   "outputs": [],
   "source": [
    "#pareto distribution\n",
    "A distribution following pareto's low\n",
    "It has two parameter:\n",
    "a = shape paramter\n",
    "size - The shape of the returned array                                          "
   ]
  },
  {
   "cell_type": "code",
   "execution_count": 20,
   "id": "8ac5602c-d1c7-4954-8f05-79f55be4e534",
   "metadata": {},
   "outputs": [
    {
     "name": "stdout",
     "output_type": "stream",
     "text": [
      "[[ 0.19198921 18.24109185  0.20915183]\n",
      " [ 0.06317791  1.60847876  0.13823798]]\n"
     ]
    }
   ],
   "source": [
    "from numpy import random\n",
    "\n",
    "x = random.pareto(a=2,size=(2,3))\n",
    "\n",
    "print(x)"
   ]
  },
  {
   "cell_type": "code",
   "execution_count": null,
   "id": "8f4c05f0-5247-406b-ae35-89b7e1bc6d80",
   "metadata": {},
   "outputs": [],
   "source": []
  }
 ],
 "metadata": {
  "kernelspec": {
   "display_name": "Python 3 (ipykernel)",
   "language": "python",
   "name": "python3"
  },
  "language_info": {
   "codemirror_mode": {
    "name": "ipython",
    "version": 3
   },
   "file_extension": ".py",
   "mimetype": "text/x-python",
   "name": "python",
   "nbconvert_exporter": "python",
   "pygments_lexer": "ipython3",
   "version": "3.11.7"
  }
 },
 "nbformat": 4,
 "nbformat_minor": 5
}
