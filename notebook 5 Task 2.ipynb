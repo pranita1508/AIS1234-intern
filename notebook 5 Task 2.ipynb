{
 "cells": [
  {
   "cell_type": "code",
   "execution_count": null,
   "id": "bbbca840-bffb-4235-b848-2c4c630d653a",
   "metadata": {},
   "outputs": [],
   "source": [
    "#While loop\n",
    "x = 0\n",
    "while x <= 20:\n",
    "    print x,\n",
    "    x = x = 2\n",
    "    "
   ]
  },
  {
   "cell_type": "code",
   "execution_count": null,
   "id": "46e079fe-5d66-476b-95b7-841d9ac9581b",
   "metadata": {},
   "outputs": [],
   "source": [
    "x=0\n",
    "while x <= 20:\n",
    "    print x,\n",
    "    x += 2"
   ]
  },
  {
   "cell_type": "code",
   "execution_count": null,
   "id": "a40d2b94-eef6-438e-b83a-a954d9e419a7",
   "metadata": {},
   "outputs": [],
   "source": []
  }
 ],
 "metadata": {
  "kernelspec": {
   "display_name": "Python 3 (ipykernel)",
   "language": "python",
   "name": "python3"
  },
  "language_info": {
   "codemirror_mode": {
    "name": "ipython",
    "version": 3
   },
   "file_extension": ".py",
   "mimetype": "text/x-python",
   "name": "python",
   "nbconvert_exporter": "python",
   "pygments_lexer": "ipython3",
   "version": "3.11.7"
  }
 },
 "nbformat": 4,
 "nbformat_minor": 5
}
