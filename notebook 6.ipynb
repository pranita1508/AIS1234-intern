{
 "cells": [
  {
   "cell_type": "code",
   "execution_count": null,
   "id": "18ce0827-fc45-49b1-afb5-4e279efa7898",
   "metadata": {},
   "outputs": [],
   "source": []
  },
  {
   "cell_type": "code",
   "execution_count": 1,
   "id": "abb22eaa-4952-460f-9819-2570eccba17f",
   "metadata": {},
   "outputs": [],
   "source": [
    "#Dictionaries\n",
    "#Accesss item\n",
    "#Get the value of the \"model\" key:\n",
    "thisdict = {\n",
    "    \"brand\":\"food\",\n",
    "    \"model\":\"mustang\",\n",
    "    \"year\":1964\n",
    "}\n",
    "x = thisdict[\"model\"]"
   ]
  },
  {
   "cell_type": "code",
   "execution_count": 2,
   "id": "d909fc33-0c47-42c0-8a32-71db01b9d30d",
   "metadata": {},
   "outputs": [],
   "source": [
    "#get\n",
    "##Get the value of the \"model\" key:\n",
    "x = thisdict.get(\"model\")"
   ]
  },
  {
   "cell_type": "code",
   "execution_count": 3,
   "id": "9d6e4d45-d438-42c5-86fa-d093db432914",
   "metadata": {},
   "outputs": [],
   "source": [
    "#get a list of the Keys:\n",
    "x = thisdict.keys()"
   ]
  },
  {
   "cell_type": "code",
   "execution_count": 4,
   "id": "4613344e-e268-422d-b455-d14231b6639b",
   "metadata": {},
   "outputs": [
    {
     "name": "stdout",
     "output_type": "stream",
     "text": [
      "dict_keys(['brand', 'model', 'year'])\n",
      "dict_keys(['brand', 'model', 'year', 'colour'])\n"
     ]
    }
   ],
   "source": [
    "#add a new item to the original dictionary , and see that keys list gets updated as well\n",
    "car = {\n",
    "    \"brand\":\"food\",\n",
    "    \"model\":\"mustang\",\n",
    "    \"year\":1964\n",
    "}\n",
    "x = car.keys()\n",
    "print(x) #before the change\n",
    "car[\"colour\"] = \"white\"\n",
    "print(x) #after the change\n",
    "    "
   ]
  },
  {
   "cell_type": "code",
   "execution_count": 6,
   "id": "1d007494-5e31-4545-867c-5f7c3fd25a30",
   "metadata": {},
   "outputs": [],
   "source": [
    "#change item\n",
    "#change the \"year\" to 2018\n",
    "thisdict = {\n",
    "    \"brand\":\"food\",\n",
    "    \"model\":\"mustang\",\n",
    "    \"year\":1964\n",
    "}\n",
    "thisdict[\"year\"] = 2018\n",
    "    "
   ]
  },
  {
   "cell_type": "code",
   "execution_count": 7,
   "id": "75861b50-48e8-4022-b800-4ebc63df3137",
   "metadata": {},
   "outputs": [],
   "source": [
    "#update dictionary\n",
    "#update()\n",
    "thisdict = {\n",
    "    \"brand\":\"food\",\n",
    "    \"model\":\"mustang\",\n",
    "    \"year\":1964\n",
    "}\n",
    "thisdict.update({\"year\":2020})"
   ]
  },
  {
   "cell_type": "code",
   "execution_count": 9,
   "id": "15c157a1-0858-473d-b40c-0c55d63437af",
   "metadata": {},
   "outputs": [
    {
     "name": "stdout",
     "output_type": "stream",
     "text": [
      "{'brand': 'food', 'year': 1964}\n"
     ]
    }
   ],
   "source": [
    "#Removing items\n",
    "#pop()\n",
    "thisdict = {\n",
    "    \"brand\":\"food\",\n",
    "    \"model\":\"mustang\",\n",
    "    \"year\":1964\n",
    "}\n",
    "thisdict.pop(\"model\")\n",
    "print(thisdict)"
   ]
  },
  {
   "cell_type": "code",
   "execution_count": 10,
   "id": "794b9c4a-4d20-4aed-a966-ec879830734a",
   "metadata": {},
   "outputs": [
    {
     "name": "stdout",
     "output_type": "stream",
     "text": [
      "food\n",
      "1964\n"
     ]
    }
   ],
   "source": [
    "#Loop Dictionaries\n",
    "#print all values in the dictionary one by one\n",
    "for x in thisdict:\n",
    "    print(thisdict[x])"
   ]
  },
  {
   "cell_type": "code",
   "execution_count": 11,
   "id": "49ec81d4-ea6f-48c1-acbf-bc0f6c4a8e53",
   "metadata": {},
   "outputs": [
    {
     "name": "stdout",
     "output_type": "stream",
     "text": [
      "{'brand': 'food', 'model': 'mustang', 'year': 1964}\n"
     ]
    }
   ],
   "source": [
    "#Copy Dictionaries\n",
    "#copr()\n",
    "thisdict = {\n",
    "    \"brand\":\"food\",\n",
    "    \"model\":\"mustang\",\n",
    "    \"year\":1964\n",
    "}\n",
    "mydict = thisdict.copy()\n",
    "print(mydict)"
   ]
  },
  {
   "cell_type": "code",
   "execution_count": 14,
   "id": "29464800-6b09-42bf-9579-6d7f47a2d7cb",
   "metadata": {},
   "outputs": [],
   "source": [
    "#Nested Dictionaries\n",
    "#create a dictionary thet contain three dictionaries\n",
    "myfamily = {\n",
    "    \"child1\" : {\n",
    "        \"name\" : \"Email\",\n",
    "        \"year\" : 2004\n",
    "    },\n",
    "    \"child2\" : {\n",
    "        \"name\" : \"Tobias\",\n",
    "        \"year\" : 2007\n",
    "    },\n",
    "    \"child3\" : {\n",
    "        \"name\" : \"Linus\",\n",
    "        \"year\" : 2011\n",
    "    }\n",
    "}\n",
    "\n"
   ]
  },
  {
   "cell_type": "code",
   "execution_count": null,
   "id": "7405ede7-a150-416e-9bb2-c0639f49021a",
   "metadata": {},
   "outputs": [],
   "source": []
  }
 ],
 "metadata": {
  "kernelspec": {
   "display_name": "Python 3 (ipykernel)",
   "language": "python",
   "name": "python3"
  },
  "language_info": {
   "codemirror_mode": {
    "name": "ipython",
    "version": 3
   },
   "file_extension": ".py",
   "mimetype": "text/x-python",
   "name": "python",
   "nbconvert_exporter": "python",
   "pygments_lexer": "ipython3",
   "version": "3.11.7"
  }
 },
 "nbformat": 4,
 "nbformat_minor": 5
}
