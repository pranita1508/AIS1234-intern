{
 "cells": [
  {
   "cell_type": "code",
   "execution_count": 2,
   "id": "284fb473-2e79-4a5e-9e6c-f4ecb9bb98ad",
   "metadata": {},
   "outputs": [
    {
     "name": "stdout",
     "output_type": "stream",
     "text": [
      "[1 2 3 4 5]\n",
      "<class 'numpy.ndarray'>\n"
     ]
    }
   ],
   "source": [
    "#Numpy arrey\n",
    "# create a numpy arrey:\n",
    "import numpy as np\n",
    "\n",
    "arr = np.array([1,2,3,4,5])\n",
    "\n",
    "print(arr)\n",
    "\n",
    "print(type(arr))\n"
   ]
  },
  {
   "cell_type": "code",
   "execution_count": null,
   "id": "74cc8a12-87be-42b5-9347-26411f1de8d9",
   "metadata": {},
   "outputs": [],
   "source": [
    "# numpy Array indexing:\n",
    "#Access Arrey Elements:\n",
    "Arrey indexing is the same as accenssing an array element:\n"
   ]
  },
  {
   "cell_type": "code",
   "execution_count": 3,
   "id": "44a85cc1-10e7-4fbd-b837-71e6099f8fa7",
   "metadata": {},
   "outputs": [
    {
     "name": "stdout",
     "output_type": "stream",
     "text": [
      "2\n"
     ]
    }
   ],
   "source": [
    "#EX\n",
    "import numpy as np\n",
    "\n",
    "arr = np.array([1,2,3,4])\n",
    "\n",
    "print(arr[1])"
   ]
  },
  {
   "cell_type": "code",
   "execution_count": null,
   "id": "b339a78d-583e-4a52-8b9d-505a9ef1a8de",
   "metadata": {},
   "outputs": [],
   "source": [
    "#Numpy Array Slicing\n",
    "Slicing arrays\n",
    "We pass slice instead of the index like this:[start:end]\n",
    "we can also define the step ,like this this:[start:end:step]\n",
    "if we dont pass start its considerd 0"
   ]
  },
  {
   "cell_type": "code",
   "execution_count": 4,
   "id": "eb753745-b55b-4fde-b1f1-103266a5f650",
   "metadata": {},
   "outputs": [
    {
     "name": "stdout",
     "output_type": "stream",
     "text": [
      "[2 3 4 5]\n"
     ]
    }
   ],
   "source": [
    "#Ex\n",
    "#slice elemets from index 1 to index 5 from the following array:\n",
    "import numpy as np\n",
    "\n",
    "arr = np.array([1,2,3,4,5,6,7])\n",
    "\n",
    "print(arr[1:5])"
   ]
  },
  {
   "cell_type": "code",
   "execution_count": null,
   "id": "d7ebe6a3-fa7b-4d0d-8a98-bff0468a7fd0",
   "metadata": {},
   "outputs": [],
   "source": [
    "#Numpy Data Types\n",
    "*by default python have these data types\n",
    ">strings - used to represent text data,the next is given under quote marks Eg.\"ABCD\"\n",
    ">integer - used o represent integer number eg.-1,-2,-3\n",
    ">float - used to represent real numbers eg.1.2 ,2.3,6.2\n",
    ">boolean - used to represent True or False\n",
    ">complex - used to represent complex numbers eg.1.0+2.0j,1.5+2.5j    \n"
   ]
  },
  {
   "cell_type": "code",
   "execution_count": 6,
   "id": "435829be-3b5d-4b9e-9d5a-a90ee1c3eb43",
   "metadata": {},
   "outputs": [
    {
     "name": "stdout",
     "output_type": "stream",
     "text": [
      "int32\n"
     ]
    }
   ],
   "source": [
    "#Ex,2\n",
    "import numpy as np\n",
    "\n",
    "arr = np.array([1,2,3,4])\n",
    "\n",
    "print(arr.dtype)"
   ]
  },
  {
   "cell_type": "code",
   "execution_count": 7,
   "id": "6d6833c5-23c5-4e29-b7c6-2e08ad9c76e0",
   "metadata": {},
   "outputs": [
    {
     "name": "stdout",
     "output_type": "stream",
     "text": [
      "[42  2  3  4  5]\n",
      "[1 2 3 4 5]\n"
     ]
    }
   ],
   "source": [
    "#Numpy Copy:\n",
    "#Ex\n",
    "import numpy as np\n",
    "\n",
    "arr = np.array([1,2,3,4,5])\n",
    "x = arr.copy()\n",
    "arr[0] = 42\n",
    "\n",
    "print(arr)\n",
    "print(x)"
   ]
  },
  {
   "cell_type": "code",
   "execution_count": 8,
   "id": "283ac223-1318-4699-9957-caf2e44f0c7f",
   "metadata": {},
   "outputs": [
    {
     "name": "stdout",
     "output_type": "stream",
     "text": [
      "(2, 4)\n"
     ]
    }
   ],
   "source": [
    "#Numpy Array Shape\n",
    "#print the shape of 2-D array:\n",
    "import numpy as np\n",
    "\n",
    "arr = np.array([[1,2,3,4],[5,6,7,8]])\n",
    "\n",
    "print(arr.shape)"
   ]
  },
  {
   "cell_type": "code",
   "execution_count": null,
   "id": "f8a3df91-fce7-4a08-abe1-de7b2f9636b7",
   "metadata": {},
   "outputs": [],
   "source": [
    "#Numpy Array Reshaping:\n",
    "Reshaping means changing the shape of the array"
   ]
  },
  {
   "cell_type": "code",
   "execution_count": 9,
   "id": "8bcc5153-43f2-4e25-bfa1-2922719a310b",
   "metadata": {},
   "outputs": [
    {
     "name": "stdout",
     "output_type": "stream",
     "text": [
      "[[ 1  2  3]\n",
      " [ 4  5  6]\n",
      " [ 7  8  9]\n",
      " [10 11 12]]\n"
     ]
    }
   ],
   "source": [
    "#Ex\n",
    "#convert the following 1-D array with 12 elements into a 2-D array:\n",
    "import numpy as np\n",
    "\n",
    "arr = np.array([1,2,3,4,5,6,7,8,9,10,11,12])\n",
    "\n",
    "newarr = arr.reshape(4,3)\n",
    "\n",
    "print(newarr)"
   ]
  },
  {
   "cell_type": "code",
   "execution_count": null,
   "id": "cc073c32-a68b-4657-b204-ad7c67830d41",
   "metadata": {},
   "outputs": [],
   "source": [
    "#Numpy Joining Array:\n",
    "joining means putting contents of two or more arrays in a single array"
   ]
  },
  {
   "cell_type": "code",
   "execution_count": 10,
   "id": "011ef67e-2364-492e-877c-77af7166204d",
   "metadata": {},
   "outputs": [
    {
     "name": "stdout",
     "output_type": "stream",
     "text": [
      "[1 2 3 4 5 6]\n"
     ]
    }
   ],
   "source": [
    "#join two array:\n",
    "import numpy as np\n",
    "\n",
    "arr1 = np.array([1,2,3])\n",
    "\n",
    "arr2 = np.array([4,5,6])\n",
    "\n",
    "arr = np.concatenate((arr1,arr2))\n",
    "\n",
    "print(arr)"
   ]
  },
  {
   "cell_type": "code",
   "execution_count": null,
   "id": "0d1d632d-d07f-4f2e-9bb5-5543b524ef21",
   "metadata": {},
   "outputs": [],
   "source": [
    "#Numpy Spliting Array\n",
    "spliting is reverse operation of joining"
   ]
  },
  {
   "cell_type": "code",
   "execution_count": 11,
   "id": "41d23fc5-25c1-45b7-b4d9-0fe8c6bf4f6f",
   "metadata": {},
   "outputs": [
    {
     "name": "stdout",
     "output_type": "stream",
     "text": [
      "[array([1, 2]), array([3, 4]), array([5, 6])]\n"
     ]
    }
   ],
   "source": [
    "#Ex.\n",
    "#split the array in 3 parts:\n",
    "import numpy as np\n",
    "\n",
    "arr = np.array([1,2,3,4,5,6])\n",
    "\n",
    "newarr = np.array_split(arr,3)\n",
    "\n",
    "print(newarr)"
   ]
  },
  {
   "cell_type": "code",
   "execution_count": null,
   "id": "835a88e1-1a75-455a-bdef-a8c73a805639",
   "metadata": {},
   "outputs": [],
   "source": [
    "#Numpy Searching Arrays\n",
    "an array for a certain value ,and return the indexes that get a match."
   ]
  },
  {
   "cell_type": "code",
   "execution_count": 12,
   "id": "9844b13d-79d8-4a75-8d9e-ac7f9560a6c7",
   "metadata": {},
   "outputs": [
    {
     "name": "stdout",
     "output_type": "stream",
     "text": [
      "(array([3, 5, 6], dtype=int64),)\n"
     ]
    }
   ],
   "source": [
    "#Ex:\n",
    "#find the indexes where the value is 4:\n",
    "import numpy as np\n",
    "\n",
    "arr = np.array([1,2,3,4,5,4,4])\n",
    "\n",
    "x = np.where(arr == 4)\n",
    "\n",
    "print(x)"
   ]
  },
  {
   "cell_type": "code",
   "execution_count": null,
   "id": "e4a64717-d0b1-478e-af53-8624adedfdf5",
   "metadata": {},
   "outputs": [],
   "source": [
    "#Numpy Sorting Arrays:\n",
    "sorting means putting elements in an ordered sequence"
   ]
  },
  {
   "cell_type": "code",
   "execution_count": 13,
   "id": "98449863-664f-4796-9949-849a2dc2b98f",
   "metadata": {},
   "outputs": [
    {
     "name": "stdout",
     "output_type": "stream",
     "text": [
      "[0 1 2 3]\n"
     ]
    }
   ],
   "source": [
    "#Ex:\n",
    "#sort the array:\n",
    "import numpy as np\n",
    "\n",
    "arr = np.array([3,2,0,1])\n",
    "\n",
    "print(np.sort(arr))"
   ]
  },
  {
   "cell_type": "code",
   "execution_count": null,
   "id": "b7560b8f-01cc-427e-a89a-93d7f56abf56",
   "metadata": {},
   "outputs": [],
   "source": [
    "#Numpy Filter Array:\n",
    "Getting some elements out of an existing array and creating a new array out of them is called filtering"
   ]
  },
  {
   "cell_type": "code",
   "execution_count": 14,
   "id": "8997ef55-1858-43b1-b1f5-7c8c436ca844",
   "metadata": {},
   "outputs": [
    {
     "name": "stdout",
     "output_type": "stream",
     "text": [
      "[41 43]\n"
     ]
    }
   ],
   "source": [
    "#create an array from the elements on index 0 and 2:\n",
    "import numpy as np\n",
    "\n",
    "arr = np.array([41,42,43,44])\n",
    "\n",
    "x = [True,False,True,False]\n",
    "\n",
    "newarr = arr[x]\n",
    "\n",
    "print(newarr)"
   ]
  },
  {
   "cell_type": "code",
   "execution_count": null,
   "id": "842c16f8-4ec3-4013-869b-89533879bf72",
   "metadata": {},
   "outputs": [],
   "source": []
  }
 ],
 "metadata": {
  "kernelspec": {
   "display_name": "Python 3 (ipykernel)",
   "language": "python",
   "name": "python3"
  },
  "language_info": {
   "codemirror_mode": {
    "name": "ipython",
    "version": 3
   },
   "file_extension": ".py",
   "mimetype": "text/x-python",
   "name": "python",
   "nbconvert_exporter": "python",
   "pygments_lexer": "ipython3",
   "version": "3.11.7"
  }
 },
 "nbformat": 4,
 "nbformat_minor": 5
}
