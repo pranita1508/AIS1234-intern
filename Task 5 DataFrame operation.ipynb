{
 "cells": [
  {
   "cell_type": "code",
   "execution_count": 3,
   "id": "fb14a0ce-24c3-4e5e-9df0-f7e50f6825ba",
   "metadata": {},
   "outputs": [
    {
     "name": "stdout",
     "output_type": "stream",
     "text": [
      "Count of each value in column 'A':\n",
      "A\n",
      "4    3\n",
      "2    2\n",
      "1    1\n",
      "3    1\n",
      "5    1\n",
      "Name: count, dtype: int64\n",
      "\n",
      "DataFrame with 'A_squared':\n",
      "   A    B  A_squared\n",
      "0  1  foo          1\n",
      "1  2  bar          4\n",
      "2  2  foo          4\n",
      "3  3  bar          9\n",
      "4  4  foo         16\n",
      "5  4  bar         16\n",
      "6  4  foo         16\n",
      "7  5  bar         25\n",
      "\n",
      "unique values in column 'B':\n",
      "['foo' 'bar']\n",
      "\n",
      "count of unique values in column 'B':\n",
      "2\n"
     ]
    }
   ],
   "source": [
    "#DataFrame operations\n",
    "import pandas as pd\n",
    "\n",
    "#create a sample DataFrame\n",
    "data = {\n",
    "    'A': [1,2,2,3,4,4,4,5],\n",
    "    'B': ['foo','bar','foo','bar','foo','bar','foo','bar']\n",
    "}\n",
    "\n",
    "df = pd.DataFrame(data)\n",
    "\n",
    "#Count occurrence of each value in column 'A'\n",
    "count_A = df['A'].value_counts()\n",
    "print(\"Count of each value in column 'A':\")\n",
    "print(count_A)\n",
    "\n",
    "#Apply a function to column 'A' (e.g.,square each value)\n",
    "df['A_squared'] = df['A'].apply(lambda x: x ** 2)\n",
    "print(\"\\nDataFrame with 'A_squared':\")\n",
    "print(df)\n",
    "\n",
    "#Find unique values in column 'B'\n",
    "unique_B = df['B'].unique()\n",
    "print(\"\\nunique values in column 'B':\")\n",
    "print(unique_B)\n",
    "\n",
    "#Count unique values in column 'B'\n",
    "unique_count_B = df['B'].nunique()\n",
    "print(\"\\ncount of unique values in column 'B':\")\n",
    "print(unique_count_B)"
   ]
  },
  {
   "cell_type": "code",
   "execution_count": 4,
   "id": "cc9d5f37-d6fb-4096-a785-9e745766d36e",
   "metadata": {},
   "outputs": [
    {
     "name": "stdout",
     "output_type": "stream",
     "text": [
      "   A    B  A_squared\n",
      "0  1  foo          1\n",
      "1  2  bar          4\n",
      "2  2  foo          4\n",
      "3  3  bar          9\n",
      "4  4  foo         16\n"
     ]
    }
   ],
   "source": [
    "print(df.head())"
   ]
  },
  {
   "cell_type": "code",
   "execution_count": 5,
   "id": "38b8b99f-7911-4488-b363-a499eb8f61cf",
   "metadata": {},
   "outputs": [
    {
     "name": "stdout",
     "output_type": "stream",
     "text": [
      "   A    B  A_squared\n",
      "3  3  bar          9\n",
      "4  4  foo         16\n",
      "5  4  bar         16\n",
      "6  4  foo         16\n",
      "7  5  bar         25\n"
     ]
    }
   ],
   "source": [
    "print(df.tail())"
   ]
  },
  {
   "cell_type": "code",
   "execution_count": 7,
   "id": "172bfc6d-10ec-4c37-95b8-8a6e23a4cedf",
   "metadata": {},
   "outputs": [
    {
     "name": "stdout",
     "output_type": "stream",
     "text": [
      "<class 'pandas.core.frame.DataFrame'>\n",
      "RangeIndex: 8 entries, 0 to 7\n",
      "Data columns (total 3 columns):\n",
      " #   Column     Non-Null Count  Dtype \n",
      "---  ------     --------------  ----- \n",
      " 0   A          8 non-null      int64 \n",
      " 1   B          8 non-null      object\n",
      " 2   A_squared  8 non-null      int64 \n",
      "dtypes: int64(2), object(1)\n",
      "memory usage: 324.0+ bytes\n",
      "None\n"
     ]
    }
   ],
   "source": [
    "print(df.info())"
   ]
  },
  {
   "cell_type": "code",
   "execution_count": 8,
   "id": "26d22aee-ef63-45b0-9862-12d546c42e41",
   "metadata": {},
   "outputs": [
    {
     "name": "stdout",
     "output_type": "stream",
     "text": [
      "              A  A_squared\n",
      "count  8.000000   8.000000\n",
      "mean   3.125000  11.375000\n",
      "std    1.356203   8.210403\n",
      "min    1.000000   1.000000\n",
      "25%    2.000000   4.000000\n",
      "50%    3.500000  12.500000\n",
      "75%    4.000000  16.000000\n",
      "max    5.000000  25.000000\n"
     ]
    }
   ],
   "source": [
    "print(df.describe())"
   ]
  },
  {
   "cell_type": "code",
   "execution_count": 2,
   "id": "b7dc9a63-0d5e-436c-932a-cf8707919b2d",
   "metadata": {},
   "outputs": [],
   "source": [
    "#selection:\n",
    "import pandas as pd\n",
    "data={'Name':['Alice','Bob','Charlie','David','Evil'],\n",
    "      'Age' :[24,27,22,32,29],\n",
    "      'city' :['New York','Los Angels','chicago','Houston','Phoenix']\n",
    "     }\n",
    "df=pd.DataFrame(data)\n"
   ]
  },
  {
   "cell_type": "code",
   "execution_count": 3,
   "id": "a315562a-36c6-4f33-98b5-6990a390e9a9",
   "metadata": {},
   "outputs": [
    {
     "name": "stdout",
     "output_type": "stream",
     "text": [
      "0      Alice\n",
      "1        Bob\n",
      "2    Charlie\n",
      "3      David\n",
      "4       Evil\n",
      "Name: Name, dtype: object\n"
     ]
    }
   ],
   "source": [
    "#selecting the 'Name' column:\n",
    "name_column=df[\"Name\"]\n",
    "print(name_column)"
   ]
  },
  {
   "cell_type": "code",
   "execution_count": 4,
   "id": "c6a3e82d-6f0b-4f6c-8e03-10aa67cc80cb",
   "metadata": {},
   "outputs": [
    {
     "name": "stdout",
     "output_type": "stream",
     "text": [
      "      Name  Age\n",
      "0    Alice   24\n",
      "1      Bob   27\n",
      "2  Charlie   22\n",
      "3    David   32\n",
      "4     Evil   29\n"
     ]
    }
   ],
   "source": [
    "#selecting name and age column:\n",
    "name_age_column=df[['Name','Age']]\n",
    "print(name_age_column)"
   ]
  },
  {
   "cell_type": "code",
   "execution_count": 5,
   "id": "82fd85e9-e697-48df-b8b8-aee707d853b9",
   "metadata": {},
   "outputs": [
    {
     "name": "stdout",
     "output_type": "stream",
     "text": [
      "Name           Bob\n",
      "Age             27\n",
      "city    Los Angels\n",
      "Name: 1, dtype: object\n"
     ]
    }
   ],
   "source": [
    "#selecting rows with label 1\n",
    "row_by_label=df.loc[1]\n",
    "print(row_by_label)"
   ]
  },
  {
   "cell_type": "code",
   "execution_count": 6,
   "id": "e4ba2820-b0cb-492d-a518-c83469e9bc50",
   "metadata": {},
   "outputs": [
    {
     "name": "stdout",
     "output_type": "stream",
     "text": [
      "Name    Charlie\n",
      "Age          22\n",
      "city    chicago\n",
      "Name: 2, dtype: object\n"
     ]
    }
   ],
   "source": [
    "#By position('iloc')\n",
    "row_by_position=df.iloc[2]\n",
    "print(row_by_position)"
   ]
  },
  {
   "cell_type": "code",
   "execution_count": 7,
   "id": "bec90fa3-86a0-4b1c-8ba4-ced862defeca",
   "metadata": {},
   "outputs": [
    {
     "name": "stdout",
     "output_type": "stream",
     "text": [
      "      Name        city\n",
      "1      Bob  Los Angels\n",
      "2  Charlie     chicago\n",
      "3    David     Houston\n"
     ]
    }
   ],
   "source": [
    "subset_by_label=df.loc[1:3,['Name','city']]\n",
    "print(subset_by_label)"
   ]
  },
  {
   "cell_type": "code",
   "execution_count": 10,
   "id": "f44a68d6-17ca-40f4-818d-728b46f4a492",
   "metadata": {},
   "outputs": [
    {
     "name": "stdout",
     "output_type": "stream",
     "text": [
      "      Name  Age\n",
      "1      Bob   27\n",
      "2  Charlie   22\n",
      "3    David   32\n"
     ]
    }
   ],
   "source": [
    "#selecting specific rows and column by position\n",
    "subset_by_position=df.iloc[1:4,0:2]\n",
    "print(subset_by_position)"
   ]
  },
  {
   "cell_type": "code",
   "execution_count": 11,
   "id": "bb9b6c07-eb36-4727-a3bb-ea58a629f0a9",
   "metadata": {},
   "outputs": [
    {
     "name": "stdout",
     "output_type": "stream",
     "text": [
      "    Name  Age        city\n",
      "1    Bob   27  Los Angels\n",
      "3  David   32     Houston\n",
      "4   Evil   29     Phoenix\n"
     ]
    }
   ],
   "source": [
    "#conditional selection\n",
    "#selecting rows where 'Age' is greater than 25\n",
    "age_greater_25=df[df['Age']>25]\n",
    "print(age_greater_25)"
   ]
  },
  {
   "cell_type": "code",
   "execution_count": 14,
   "id": "d89d2114-d5cc-461c-b64f-707d2d57110c",
   "metadata": {},
   "outputs": [
    {
     "name": "stdout",
     "output_type": "stream",
     "text": [
      "Empty DataFrame\n",
      "Columns: [Name, Age, city]\n",
      "Index: []\n"
     ]
    }
   ],
   "source": [
    "#selecting rows where 'Age' is greater than 25 and city is 'new'\n",
    "conditioned_rows=df[(df['Age']>25)&(df['city']=='New York')]\n",
    "print(conditioned_rows)                  "
   ]
  },
  {
   "cell_type": "code",
   "execution_count": 15,
   "id": "62ee15d9-905d-4594-9023-b5616b8a401a",
   "metadata": {},
   "outputs": [
    {
     "name": "stdout",
     "output_type": "stream",
     "text": [
      "\n",
      "DataFrame after adding 'Country' column:\n",
      "       Name  Age        city Country\n",
      "0    Alice   24    New York     USA\n",
      "1      Bob   27  Los Angels     USA\n",
      "2  Charlie   22     chicago     USA\n",
      "3    David   32     Houston     USA\n",
      "4     Evil   29     Phoenix     USA\n"
     ]
    }
   ],
   "source": [
    "#Adding a new column 'country' with a constant value\n",
    "df['Country']='USA'\n",
    "print(\"\\nDataFrame after adding 'Country' column:\\n\",df)"
   ]
  },
  {
   "cell_type": "code",
   "execution_count": 17,
   "id": "97db3795-dcf6-44f1-882c-762d3abdf9ad",
   "metadata": {},
   "outputs": [
    {
     "name": "stdout",
     "output_type": "stream",
     "text": [
      "\n",
      "DataFrame after deleting 'city' column:\n",
      "       Name  Age Country\n",
      "0    Alice   24     USA\n",
      "1      Bob   27     USA\n",
      "2  Charlie   22     USA\n",
      "3    David   32     USA\n",
      "4     Evil   29     USA\n"
     ]
    }
   ],
   "source": [
    "#Delecting the 'city' column\n",
    "df=df.drop(columns=['city'])\n",
    "print(\"\\nDataFrame after deleting 'city' column:\\n\",df)"
   ]
  },
  {
   "cell_type": "code",
   "execution_count": 20,
   "id": "f931bbde-d551-4345-b334-1a1fa716f9ca",
   "metadata": {},
   "outputs": [
    {
     "name": "stdout",
     "output_type": "stream",
     "text": [
      "\n",
      "DataFrame after deleting 'City' column:\n",
      "       Name  Age\n",
      "0    Alice   24\n",
      "1      Bob   27\n",
      "2  Charlie   22\n",
      "3    David   32\n",
      "4     Evil   29\n"
     ]
    }
   ],
   "source": [
    "#Deleting the country column\n",
    "del df['Country']\n",
    "print(\"\\nDataFrame after deleting 'City' column:\\n\",df)"
   ]
  },
  {
   "cell_type": "code",
   "execution_count": 21,
   "id": "930911cb-376e-47d1-a0bd-d9a9de70f4c7",
   "metadata": {},
   "outputs": [
    {
     "name": "stdout",
     "output_type": "stream",
     "text": [
      "\n",
      "DataFrame after updating 'Age' column:\n",
      "       Name  Age\n",
      "0    Alice   25\n",
      "1      Bob   28\n",
      "2  Charlie   23\n",
      "3    David   33\n",
      "4     Evil   30\n"
     ]
    }
   ],
   "source": [
    "#updating column\n",
    "#updating the 'Age' column to be increased by 1\n",
    "df['Age']=df['Age']+1\n",
    "print(\"\\nDataFrame after updating 'Age' column:\\n\",df)"
   ]
  },
  {
   "cell_type": "code",
   "execution_count": 22,
   "id": "9394d7eb-cd73-4013-ac15-8bc5bd4205ae",
   "metadata": {},
   "outputs": [
    {
     "name": "stdout",
     "output_type": "stream",
     "text": [
      "\n",
      "DataFrame with 'Name' as the index:\n",
      "          Age\n",
      "Name        \n",
      "Alice     25\n",
      "Bob       28\n",
      "Charlie   23\n",
      "David     33\n",
      "Evil      30\n"
     ]
    }
   ],
   "source": [
    "#selecting \"Name\"as index\n",
    "df_with_index=df.set_index('Name')\n",
    "print(\"\\nDataFrame with 'Name' as the index:\\n\",df_with_index)"
   ]
  },
  {
   "cell_type": "code",
   "execution_count": 24,
   "id": "ebffde35-7d0a-4bfb-b552-415e500d7528",
   "metadata": {},
   "outputs": [
    {
     "name": "stdout",
     "output_type": "stream",
     "text": [
      "\n",
      "DataFrame after removing the index:\n",
      "       Name  Age\n",
      "0    Alice   25\n",
      "1      Bob   28\n",
      "2  Charlie   23\n",
      "3    David   33\n",
      "4     Evil   30\n"
     ]
    }
   ],
   "source": [
    "#Dropping to index to remove it\n",
    "df_no_index=df.reset_index(drop=True)\n",
    "print(\"\\nDataFrame after removing the index:\\n\",df_no_index)"
   ]
  },
  {
   "cell_type": "code",
   "execution_count": 25,
   "id": "a39d90e0-aec5-4053-81bd-76a4a0c1cad6",
   "metadata": {},
   "outputs": [
    {
     "name": "stdout",
     "output_type": "stream",
     "text": [
      "Original DataFrame:\n",
      "     A  B\n",
      "0  10  1\n",
      "1  20  2\n",
      "2  30  3\n",
      "3  40  4\n",
      "4  50  5\n"
     ]
    }
   ],
   "source": [
    "#Operation\n",
    "data={\n",
    "    'A':[10,20,30,40,50],\n",
    "    'B':[1,2,3,4,5]\n",
    "}\n",
    "df=pd.DataFrame(data)\n",
    "print(\"Original DataFrame:\\n\",df)"
   ]
  },
  {
   "cell_type": "code",
   "execution_count": 26,
   "id": "f83ef1fc-316e-4b7f-9e5f-b56dd8ea8701",
   "metadata": {},
   "outputs": [
    {
     "name": "stdout",
     "output_type": "stream",
     "text": [
      "\n",
      "DataFrame after adding column 'A' and 'B':\n",
      "     A  B  A_plus_B\n",
      "0  10  1        11\n",
      "1  20  2        22\n",
      "2  30  3        33\n",
      "3  40  4        44\n",
      "4  50  5        55\n"
     ]
    }
   ],
   "source": [
    "#Addition\n",
    "df['A_plus_B']=df['A']+df['B']\n",
    "print(\"\\nDataFrame after adding column 'A' and 'B':\\n\",df)"
   ]
  },
  {
   "cell_type": "code",
   "execution_count": 27,
   "id": "dc293514-e1d0-4fca-88e3-e795a71b6b26",
   "metadata": {},
   "outputs": [
    {
     "name": "stdout",
     "output_type": "stream",
     "text": [
      "\n",
      "DataFrame after substracting column 'A' and 'B':\n",
      "     A  B  A_plus_B  A_minus_B\n",
      "0  10  1        11          9\n",
      "1  20  2        22         18\n",
      "2  30  3        33         27\n",
      "3  40  4        44         36\n",
      "4  50  5        55         45\n"
     ]
    }
   ],
   "source": [
    "#substraction\n",
    "df['A_minus_B']=df['A']-df['B']\n",
    "print(\"\\nDataFrame after substracting column 'A' and 'B':\\n\",df)"
   ]
  },
  {
   "cell_type": "code",
   "execution_count": 28,
   "id": "b07795a8-eded-48af-8f7f-273c843c4c13",
   "metadata": {},
   "outputs": [
    {
     "name": "stdout",
     "output_type": "stream",
     "text": [
      "\n",
      "DataFrame after multiplying column 'A' and 'B':\n",
      "     A  B  A_plus_B  A_minus_B  A_times_B\n",
      "0  10  1        11          9         10\n",
      "1  20  2        22         18         40\n",
      "2  30  3        33         27         90\n",
      "3  40  4        44         36        160\n",
      "4  50  5        55         45        250\n"
     ]
    }
   ],
   "source": [
    "#Multiplication\n",
    "df['A_times_B']=df['A']*df['B']\n",
    "print(\"\\nDataFrame after multiplying column 'A' and 'B':\\n\",df)\n"
   ]
  },
  {
   "cell_type": "code",
   "execution_count": 29,
   "id": "9538bcb6-355e-4886-a580-c76c7eeda1f2",
   "metadata": {},
   "outputs": [
    {
     "name": "stdout",
     "output_type": "stream",
     "text": [
      "\n",
      "DataFrame after dividing column 'A' and 'B':\n",
      "     A  B  A_plus_B  A_minus_B  A_times_B  A_div_B\n",
      "0  10  1        11          9         10     10.0\n",
      "1  20  2        22         18         40     10.0\n",
      "2  30  3        33         27         90     10.0\n",
      "3  40  4        44         36        160     10.0\n",
      "4  50  5        55         45        250     10.0\n"
     ]
    }
   ],
   "source": [
    "#Division\n",
    "df['A_div_B']=df['A']/df['B']\n",
    "print(\"\\nDataFrame after dividing column 'A' and 'B':\\n\",df)\n",
    "\n"
   ]
  },
  {
   "cell_type": "code",
   "execution_count": null,
   "id": "582e83f2-cfc9-4142-aebf-aef8d48ecdf5",
   "metadata": {},
   "outputs": [],
   "source": []
  }
 ],
 "metadata": {
  "kernelspec": {
   "display_name": "Python 3 (ipykernel)",
   "language": "python",
   "name": "python3"
  },
  "language_info": {
   "codemirror_mode": {
    "name": "ipython",
    "version": 3
   },
   "file_extension": ".py",
   "mimetype": "text/x-python",
   "name": "python",
   "nbconvert_exporter": "python",
   "pygments_lexer": "ipython3",
   "version": "3.11.7"
  }
 },
 "nbformat": 4,
 "nbformat_minor": 5
}
